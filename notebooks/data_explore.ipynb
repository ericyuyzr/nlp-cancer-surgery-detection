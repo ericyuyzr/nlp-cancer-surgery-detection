{
 "cells": [
  {
   "cell_type": "code",
   "execution_count": 1,
   "id": "a8828446",
   "metadata": {},
   "outputs": [],
   "source": [
    "import pandas as pd"
   ]
  },
  {
   "cell_type": "code",
   "execution_count": 12,
   "id": "a7709bce",
   "metadata": {},
   "outputs": [
    {
     "name": "stderr",
     "output_type": "stream",
     "text": [
      "C:\\Users\\zhenrui.yu\\AppData\\Local\\Temp\\ipykernel_21872\\3298834733.py:1: DtypeWarning: Columns (7,14,28,31,34,46,48,49,50,55) have mixed types. Specify dtype option on import or set low_memory=False.\n",
      "  raw_surgery = pd.read_csv(\"../data/raw_data.csv\")\n"
     ]
    }
   ],
   "source": [
    "raw_surgery = pd.read_csv(\"../data/raw_data.csv\")"
   ]
  },
  {
   "cell_type": "code",
   "execution_count": 27,
   "id": "3cc29b8e",
   "metadata": {},
   "outputs": [],
   "source": [
    "scheduled_surgery = raw_surgery[raw_surgery[\"scheduled_status\"] == \"Scheduled\"]\n",
    "\n",
    "# fill no cancer cases\n",
    "scheduled_surgery['site'] = scheduled_surgery['site'].fillna('non_cancer')\n",
    "\n",
    "# filter data from 2016 to 2024 and keep the diagnosis and primary procedure columns only\n",
    "cancer_surgery = scheduled_surgery[\n",
    "    (scheduled_surgery[\"surgery_completion_date\"] >= \"2016-01-01\") &\n",
    "    (scheduled_surgery[\"surgery_completion_date\"] <= \"2024-12-31\")\n",
    "][\n",
    "    [\"bc_diagnosis_description\", \"ha_procedure_description\", \"site\"]\n",
    "]\n",
    "cancer_surgery = cancer_surgery.drop_duplicates()"
   ]
  },
  {
   "cell_type": "code",
   "execution_count": 28,
   "id": "267021ab",
   "metadata": {},
   "outputs": [
    {
     "name": "stdout",
     "output_type": "stream",
     "text": [
      "<class 'pandas.core.frame.DataFrame'>\n",
      "Index: 108298 entries, 0 to 3411160\n",
      "Data columns (total 3 columns):\n",
      " #   Column                    Non-Null Count   Dtype \n",
      "---  ------                    --------------   ----- \n",
      " 0   bc_diagnosis_description  107067 non-null  object\n",
      " 1   ha_procedure_description  108298 non-null  object\n",
      " 2   site                      108298 non-null  object\n",
      "dtypes: object(3)\n",
      "memory usage: 3.3+ MB\n"
     ]
    }
   ],
   "source": [
    "cancer_surgery.info()\n"
   ]
  },
  {
   "cell_type": "code",
   "execution_count": 29,
   "id": "b52f0923",
   "metadata": {},
   "outputs": [
    {
     "data": {
      "text/plain": [
       "site\n",
       "non_cancer       107067\n",
       "Colorectal          273\n",
       "Breast              248\n",
       "Endometrium         191\n",
       "Head and neck       184\n",
       "Ovary               118\n",
       "Bladder             110\n",
       "Stomach              45\n",
       "Lung                 20\n",
       "Pancreas             13\n",
       "Liver                11\n",
       "Esophageal           10\n",
       "Prostate              8\n",
       "Name: count, dtype: int64"
      ]
     },
     "execution_count": 29,
     "metadata": {},
     "output_type": "execute_result"
    }
   ],
   "source": [
    "cancer_surgery['site'].value_counts()"
   ]
  },
  {
   "cell_type": "code",
   "execution_count": 31,
   "id": "651fde3d",
   "metadata": {},
   "outputs": [],
   "source": [
    "cancer_surgery.to_csv(\"../data/diagnosis_procedure_list.csv\", index=False)"
   ]
  }
 ],
 "metadata": {
  "kernelspec": {
   "display_name": "cancer-surgery-nlp",
   "language": "python",
   "name": "python3"
  },
  "language_info": {
   "codemirror_mode": {
    "name": "ipython",
    "version": 3
   },
   "file_extension": ".py",
   "mimetype": "text/x-python",
   "name": "python",
   "nbconvert_exporter": "python",
   "pygments_lexer": "ipython3",
   "version": "3.10.17"
  }
 },
 "nbformat": 4,
 "nbformat_minor": 5
}
