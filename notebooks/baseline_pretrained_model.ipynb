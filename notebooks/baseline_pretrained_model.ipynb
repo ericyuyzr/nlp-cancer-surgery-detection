{
 "cells": [
  {
   "cell_type": "code",
   "execution_count": 1,
   "id": "8f2c89d1",
   "metadata": {},
   "outputs": [
    {
     "name": "stderr",
     "output_type": "stream",
     "text": [
      "c:\\Users\\zhenrui.yu\\AppData\\Local\\miniconda3\\envs\\cancer-surgery-nlp\\lib\\site-packages\\tqdm\\auto.py:21: TqdmWarning: IProgress not found. Please update jupyter and ipywidgets. See https://ipywidgets.readthedocs.io/en/stable/user_install.html\n",
      "  from .autonotebook import tqdm as notebook_tqdm\n"
     ]
    }
   ],
   "source": [
    "from transformers import pipeline\n",
    "import pandas as pd\n",
    "from sklearn.metrics import classification_report, confusion_matrix"
   ]
  },
  {
   "cell_type": "code",
   "execution_count": 2,
   "id": "45155c0d",
   "metadata": {},
   "outputs": [],
   "source": [
    "cancer_text = pd.read_csv(\"../data/train_data_01.csv\")"
   ]
  },
  {
   "cell_type": "code",
   "execution_count": 4,
   "id": "e23d77be",
   "metadata": {},
   "outputs": [
    {
     "name": "stderr",
     "output_type": "stream",
     "text": [
      "Device set to use cpu\n"
     ]
    }
   ],
   "source": [
    "# Load zero-shot classification pipeline\n",
    "classifier = pipeline(\"zero-shot-classification\", model=\"facebook/bart-large-mnli\")"
   ]
  },
  {
   "cell_type": "code",
   "execution_count": 6,
   "id": "5e003a1e",
   "metadata": {},
   "outputs": [],
   "source": [
    "# Candidate labels\n",
    "labels = [\"This is a cancer surgery procedure\", \"This is not a cancer surgery procedure\"]"
   ]
  },
  {
   "cell_type": "code",
   "execution_count": 7,
   "id": "472b4891",
   "metadata": {},
   "outputs": [],
   "source": [
    "# Add context can help the model understand the task better, play around it for a quite while and find the best one\n",
    "def add_context(procedure):\n",
    "    if pd.isna(procedure) or procedure.strip() == \"\":\n",
    "        return \"\"\n",
    "    return f\"Procedure performed: {procedure}.\"\n",
    "\n",
    "# Use in your pipeline\n",
    "cancer_text[\"procedure_context\"] = cancer_text[\"ha_procedure_description\"].apply(add_context)"
   ]
  },
  {
   "cell_type": "markdown",
   "id": "e1589fe5",
   "metadata": {},
   "source": [
    "### Run classification"
   ]
  },
  {
   "cell_type": "code",
   "execution_count": 8,
   "id": "e0bc4c4b",
   "metadata": {},
   "outputs": [],
   "source": [
    "def classify_procedure(text):\n",
    "    if pd.isna(text) or not str(text).strip():\n",
    "        return \"unknown\", 0.0\n",
    "    result = classifier(str(text), labels)\n",
    "    return result[\"labels\"][0], float(result[\"scores\"][0])\n",
    "\n",
    "# Get unique values\n",
    "unique_texts = cancer_text[\"procedure_context\"].dropna().unique()\n",
    "\n",
    "# a lookup dictionary with classification results\n",
    "classification_lookup = {\n",
    "    text: classify_procedure(text) for text in unique_texts\n",
    "}\n",
    "\n",
    "# Step 3: Map back to the full DataFrame\n",
    "cancer_text[\"prediction\"], cancer_text[\"confidence\"] = zip(*cancer_text[\"procedure_context\"].map(\n",
    "    lambda x: classification_lookup.get(x, (\"unknown\", 0.0))\n",
    "))\n"
   ]
  },
  {
   "cell_type": "code",
   "execution_count": 61,
   "id": "10d54775",
   "metadata": {},
   "outputs": [],
   "source": [
    "unique_texts = cancer_text[\"procedure_context\"].dropna().unique()"
   ]
  },
  {
   "cell_type": "code",
   "execution_count": 12,
   "id": "ec9dc336",
   "metadata": {},
   "outputs": [],
   "source": [
    "#df_unique = df.drop_duplicates(subset=[\"procedure\"], keep=\"first\")\n",
    "\n",
    "cancer_text.to_csv(\"../data/llm_baseline_train_data_result.csv\", index=False)"
   ]
  },
  {
   "cell_type": "code",
   "execution_count": 11,
   "id": "ee604997",
   "metadata": {},
   "outputs": [
    {
     "name": "stdout",
     "output_type": "stream",
     "text": [
      "[[  251   730]\n",
      " [40681 44972]]\n",
      "                   precision    recall  f1-score   support\n",
      "\n",
      "      cancer case       0.01      0.26      0.01       981\n",
      "not a cancer case       0.98      0.53      0.68     85653\n",
      "\n",
      "         accuracy                           0.52     86634\n",
      "        macro avg       0.50      0.39      0.35     86634\n",
      "     weighted avg       0.97      0.52      0.68     86634\n",
      "\n"
     ]
    }
   ],
   "source": [
    "cancer_text[\"prediction\"] = cancer_text[\"prediction\"].replace({\n",
    "    \"This is a cancer surgery procedure\": \"non_cancer\",\n",
    "    \"This is not a cancer surgery procedure\": \"cancer\"\n",
    "})\n",
    "cancer_text[\"true_label\"] = cancer_text[\"target\"].apply(lambda x: \"non_cancer\" if x == \"non_cancer\" else \"cancer\")\n",
    "\n",
    "y_true = cancer_text[\"true_label\"]\n",
    "y_pred = cancer_text[\"prediction\"]\n",
    "\n",
    "print(confusion_matrix(y_true, y_pred, labels=[\"cancer\", \"non_cancer\"]))\n",
    "print(classification_report(y_true, y_pred, target_names=[\"cancer case\", \"not a cancer case\"]))\n"
   ]
  },
  {
   "cell_type": "code",
   "execution_count": 14,
   "id": "df05a5f0",
   "metadata": {},
   "outputs": [
    {
     "data": {
      "text/plain": [
       "0.49507953940611865"
      ]
     },
     "execution_count": 14,
     "metadata": {},
     "output_type": "execute_result"
    }
   ],
   "source": [
    "from sklearn.metrics import precision_score\n",
    "precision_score(y_true, y_pred, average='macro')"
   ]
  }
 ],
 "metadata": {
  "kernelspec": {
   "display_name": "cancer-surgery-nlp",
   "language": "python",
   "name": "python3"
  },
  "language_info": {
   "codemirror_mode": {
    "name": "ipython",
    "version": 3
   },
   "file_extension": ".py",
   "mimetype": "text/x-python",
   "name": "python",
   "nbconvert_exporter": "python",
   "pygments_lexer": "ipython3",
   "version": "3.10.17"
  }
 },
 "nbformat": 4,
 "nbformat_minor": 5
}
