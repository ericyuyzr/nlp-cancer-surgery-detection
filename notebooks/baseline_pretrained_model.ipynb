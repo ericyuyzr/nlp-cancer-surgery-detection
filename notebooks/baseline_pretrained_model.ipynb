{
 "cells": [
  {
   "cell_type": "code",
   "execution_count": 1,
   "id": "8f2c89d1",
   "metadata": {},
   "outputs": [
    {
     "name": "stderr",
     "output_type": "stream",
     "text": [
      "c:\\Users\\zhenrui.yu\\AppData\\Local\\miniconda3\\envs\\cancer-surgery-nlp\\lib\\site-packages\\tqdm\\auto.py:21: TqdmWarning: IProgress not found. Please update jupyter and ipywidgets. See https://ipywidgets.readthedocs.io/en/stable/user_install.html\n",
      "  from .autonotebook import tqdm as notebook_tqdm\n"
     ]
    }
   ],
   "source": [
    "from transformers import pipeline\n",
    "import pandas as pd\n",
    "from sklearn.metrics import classification_report, confusion_matrix"
   ]
  },
  {
   "cell_type": "code",
   "execution_count": 2,
   "id": "45155c0d",
   "metadata": {},
   "outputs": [],
   "source": [
    "cancer_text = pd.read_csv(\"../data/train_data_01.csv\")"
   ]
  },
  {
   "cell_type": "code",
   "execution_count": 3,
   "id": "72dd4231",
   "metadata": {},
   "outputs": [
    {
     "data": {
      "application/vnd.microsoft.datawrangler.viewer.v0+json": {
       "columns": [
        {
         "name": "index",
         "rawType": "int64",
         "type": "integer"
        },
        {
         "name": "bc_diagnosis_description",
         "rawType": "object",
         "type": "unknown"
        },
        {
         "name": "ha_procedure_description",
         "rawType": "object",
         "type": "string"
        },
        {
         "name": "target",
         "rawType": "object",
         "type": "string"
        }
       ],
       "ref": "b3888d91-7f33-4409-82ae-c1f2e604e804",
       "rows": [
        [
         "0",
         "Urology other P1",
         "NEPHRECTOMY (ADULT)",
         "non_cancer"
        ],
        [
         "1",
         "Claudication - stable",
         "FUSION - INSTRUMENTED, PLATING - POSTERIOR CERVICAL",
         "non_cancer"
        ],
        [
         "2",
         "Obst/Gynecology other P3",
         "THERMABLATION - ENDOMETRIAL #2",
         "non_cancer"
        ],
        [
         "3",
         "Cleft Palate",
         "PALATE CLOSURE FISTULA",
         "non_cancer"
        ],
        [
         "4",
         "Scar without functional restriction",
         "CORRECTION OF ECTROPION",
         "non_cancer"
        ],
        [
         "5",
         "General surgery other P1",
         "LAPAROSCOPIC CHOLECYSTECTOMY, CHOLANGIOGRAMS",
         "non_cancer"
        ],
        [
         "6",
         "General surgery other P5",
         "THYROIDECTOMY",
         "non_cancer"
        ],
        [
         "7",
         "Shoulder - malalignment/malunion - severe constant pain or constant functional deficit, imminent threat to role or independence",
         "SHOULDER TOTAL ARTHROPLASTY REVERSE",
         "non_cancer"
        ],
        [
         "8",
         "Cancer ovary, fallopian tube or peritoneum",
         "MIS DIAGNOSTIC GYNE",
         "non_cancer"
        ],
        [
         "9",
         "Knee joint - soft tissue - benign lesion",
         "KNEE ARTHROSCOPY UNILATERAL",
         "non_cancer"
        ],
        [
         "10",
         "Humerus - retained hardware - severe constant pain or constant functional deficit, imminent threat to role or independence",
         "REMOVAL PEDIATRIC IM NAIL",
         "non_cancer"
        ],
        [
         "11",
         "General surgery other P3",
         "LAPAROSCOPIC HERNIA REPAIR - INCISIONAL/VENTRAL",
         "non_cancer"
        ],
        [
         "12",
         "Cutaneous malignant Melanoma or squamous cell carcinoma, T1N0",
         "EXCISION SINUS - PERINEAL",
         "non_cancer"
        ],
        [
         "13",
         "Urology other P3",
         "ORCHIECTOMY BILATERAL",
         "non_cancer"
        ],
        [
         "14",
         "Myringotomy and tubes for recurrent otitis media",
         "EAR-TYMPANOPLASTY -UNILATERAL",
         "non_cancer"
        ],
        [
         "15",
         "Shoulder - arthritis/joint degeneration - mild pain, but tolerable functional deficit",
         "PROCEDURE ABORTED IN OR",
         "non_cancer"
        ],
        [
         "16",
         "Breast cancer surgery - regular",
         "BREAST-EXCISION & BIOPSY LUMP ULTRASOUND-UNILATERAL",
         "non_cancer"
        ],
        [
         "17",
         "Umbilical Hernia",
         "REPAIR-HERNIA-INGUINAL-LAPAROSCOPY",
         "non_cancer"
        ],
        [
         "18",
         "Foreign body",
         "MAXILLA OSTEOTOMY SEGMENTAL",
         "non_cancer"
        ],
        [
         "19",
         "Hypermastia and all other benign breast conditions",
         "RECONSTRUCTION BREAST WITH IMMEDIATE PROSTHESIS BILATERAL",
         "non_cancer"
        ],
        [
         "20",
         "Visceral or renal aneurysm",
         "AORTA RENAL BYPASS GRAFT",
         "non_cancer"
        ],
        [
         "21",
         "Urology other P4",
         "LAPAROTOMY EXCISION RETROPERITONEAL MASS",
         "non_cancer"
        ],
        [
         "22",
         "Knee - infection - severe pain and/or urgent impairment/disability, immediate threat to role or independence - e.g. collapsed femoral head, AVN",
         "ARTHROSCOPY KNEE - DIAGNOSTIC",
         "non_cancer"
        ],
        [
         "23",
         "Cutaneous or subcutaneous tumours -- confirmed or suspected malignancy",
         "BREAST BIOPSY/LUMPECTOMY W AXILLARY DISSECTION",
         "non_cancer"
        ],
        [
         "24",
         "Urology other P4",
         "CYSTOSCOPY WITH STENT REMOVAL",
         "non_cancer"
        ],
        [
         "25",
         "Hand condition: little or no pain - tolerable functional deficit - intermittent severe pain restricting activity (e.g. Dupuytren's- ganglion- stiff joint)",
         "HAND MINOR SURGERY/ORTHO",
         "non_cancer"
        ],
        [
         "26",
         "Anal fistula with sepsis",
         "BIOPSY/EXCISION LESION - ANUS",
         "non_cancer"
        ],
        [
         "27",
         "Indeterminate",
         "EXCISION WIDE LOWER BODY/LIMB MINOR UNILATERAL",
         "non_cancer"
        ],
        [
         "28",
         "Elbow - bony/labral impingement - mild pain, but tolerable functional deficit",
         "EXCISION BONE - ELBOW/HUMERUS",
         "non_cancer"
        ],
        [
         "29",
         "Vulvar hypertrophy",
         "LESION/CYST/LIPOMA EXCISION LIMB/TRUNK",
         "non_cancer"
        ],
        [
         "30",
         "Tibia-Fibula - Other - severe pain and/or urgent impairment/disability, immediate threat to role or independence - e.g. collapsed femoral head, AVN",
         "IRRIGATION/DEBRIDEMENT - LOWER EXTREMITY",
         "non_cancer"
        ],
        [
         "31",
         "Cornea opacity or disease for transplantation",
         "WASHOUT ANTERIOR CHAMBER",
         "non_cancer"
        ],
        [
         "32",
         "Benign Tumour with limited functional impairment (e.g. lipoma)",
         "EUA/EXPLORE/REMOVE FOREIGN BODY - BACK",
         "non_cancer"
        ],
        [
         "33",
         "Elective hand surgery with loss of ability to work",
         "FINGER TENDON REPAIR",
         "non_cancer"
        ],
        [
         "34",
         "Hand condition: moderate to severe constant pain or constant functional deficit - imminent threat to role or independence",
         "CLOSED REDUCTION PERCUTANEOUS PINNING - FINGER/HAND",
         "non_cancer"
        ],
        [
         "35",
         "Plastic surgery other P4",
         "EXCISION/BIOPSY LESION - PERINEUM",
         "non_cancer"
        ],
        [
         "36",
         "Hiatus hernia (type I only) with no complication",
         "RESECTION LUNG WEDGE WITH BULLECTOMY AND BIOPSY VATS",
         "non_cancer"
        ],
        [
         "37",
         "Surveillance where assessment period 1 year or over; wait time starts at date surveillance is due - BCCA screening program",
         "MEDICAL ENDO COLONOSCOPY (SURVEILLANCE NO CSP)",
         "non_cancer"
        ],
        [
         "38",
         "General surgery other P4",
         "RESECTION ABDOMINOPERINEAL LAPAROSCOPIC",
         "non_cancer"
        ],
        [
         "39",
         "Hand and/or Wrist - joint internal derangement (includes patients with loose body/meniscal tear impingement) - mild pain, but tolerable functional deficit",
         "HAND MINOR SURGERY/ORTHO",
         "non_cancer"
        ],
        [
         "40",
         "Inguinal or femoral hernia",
         "EXAM UNDER ANAESTHESIA",
         "non_cancer"
        ],
        [
         "41",
         "Foot - tendon dysfunction - moderate to severe pain with significant or severe functional limitation",
         "FOOT EXCISE EXOSTOSIS UNILATERAL",
         "non_cancer"
        ],
        [
         "42",
         "Ankle - retained hardware - severe constant pain or constant functional deficit, imminent threat to role or independence",
         "REMOVAL INTERNAL FIXATION DEVICE - ANKLE",
         "non_cancer"
        ],
        [
         "43",
         "General surgery other P5",
         "NODE DISSECTION/EXCISION MASS NECK",
         "non_cancer"
        ],
        [
         "44",
         "Knee - ligament dysfunction - mild pain, but tolerable functional deficit",
         "ARTHROSCOPY HIP",
         "non_cancer"
        ],
        [
         "45",
         "Chronic renal failure - failing dialysis access",
         "BRACHIAL ARTERY REPAIR",
         "non_cancer"
        ],
        [
         "46",
         "Osteochondritis Dissecans - unstable",
         "CHONDROPLASTY - KNEE",
         "non_cancer"
        ],
        [
         "47",
         "Foot - arthritis/joint degeneration - severe constant pain or constant functional deficit, imminent threat to role or independence",
         "ARTHRODESIS - HINDFOOT",
         "non_cancer"
        ],
        [
         "48",
         "Shoulder - malalignment/malunion - severe pain and/or urgent impairment/disability, immediate threat to role or independence - e.g. collapsed femoral head, AVN",
         "RECONSTRUCTION - SHOULDER",
         "non_cancer"
        ],
        [
         "49",
         "Knee - arthritis/joint degeneration - mild pain, but tolerable functional deficit",
         "KNEE ARTHROPLASTY TOTAL UNICOMPARTMENTAL OXFORD UNILATERAL",
         "non_cancer"
        ]
       ],
       "shape": {
        "columns": 3,
        "rows": 86634
       }
      },
      "text/html": [
       "<div>\n",
       "<style scoped>\n",
       "    .dataframe tbody tr th:only-of-type {\n",
       "        vertical-align: middle;\n",
       "    }\n",
       "\n",
       "    .dataframe tbody tr th {\n",
       "        vertical-align: top;\n",
       "    }\n",
       "\n",
       "    .dataframe thead th {\n",
       "        text-align: right;\n",
       "    }\n",
       "</style>\n",
       "<table border=\"1\" class=\"dataframe\">\n",
       "  <thead>\n",
       "    <tr style=\"text-align: right;\">\n",
       "      <th></th>\n",
       "      <th>bc_diagnosis_description</th>\n",
       "      <th>ha_procedure_description</th>\n",
       "      <th>target</th>\n",
       "    </tr>\n",
       "  </thead>\n",
       "  <tbody>\n",
       "    <tr>\n",
       "      <th>0</th>\n",
       "      <td>Urology other P1</td>\n",
       "      <td>NEPHRECTOMY (ADULT)</td>\n",
       "      <td>non_cancer</td>\n",
       "    </tr>\n",
       "    <tr>\n",
       "      <th>1</th>\n",
       "      <td>Claudication - stable</td>\n",
       "      <td>FUSION - INSTRUMENTED, PLATING - POSTERIOR CER...</td>\n",
       "      <td>non_cancer</td>\n",
       "    </tr>\n",
       "    <tr>\n",
       "      <th>2</th>\n",
       "      <td>Obst/Gynecology other P3</td>\n",
       "      <td>THERMABLATION - ENDOMETRIAL #2</td>\n",
       "      <td>non_cancer</td>\n",
       "    </tr>\n",
       "    <tr>\n",
       "      <th>3</th>\n",
       "      <td>Cleft Palate</td>\n",
       "      <td>PALATE CLOSURE FISTULA</td>\n",
       "      <td>non_cancer</td>\n",
       "    </tr>\n",
       "    <tr>\n",
       "      <th>4</th>\n",
       "      <td>Scar without functional restriction</td>\n",
       "      <td>CORRECTION OF ECTROPION</td>\n",
       "      <td>non_cancer</td>\n",
       "    </tr>\n",
       "    <tr>\n",
       "      <th>...</th>\n",
       "      <td>...</td>\n",
       "      <td>...</td>\n",
       "      <td>...</td>\n",
       "    </tr>\n",
       "    <tr>\n",
       "      <th>86629</th>\n",
       "      <td>Surveillance where assessment period 1 year or...</td>\n",
       "      <td>COLONOSCOPY AND UGI</td>\n",
       "      <td>non_cancer</td>\n",
       "    </tr>\n",
       "    <tr>\n",
       "      <th>86630</th>\n",
       "      <td>Testicular cancer - radical orchiectomy</td>\n",
       "      <td>ORCHIDECTOMY SIMPLE(SCROTAL APPROACH)</td>\n",
       "      <td>non_cancer</td>\n",
       "    </tr>\n",
       "    <tr>\n",
       "      <th>86631</th>\n",
       "      <td>Otolaryngology other P1</td>\n",
       "      <td>EAR EUA/MYRINGOTOMY</td>\n",
       "      <td>non_cancer</td>\n",
       "    </tr>\n",
       "    <tr>\n",
       "      <th>86632</th>\n",
       "      <td>Knee - retained hardware - moderate to severe ...</td>\n",
       "      <td>OPEN REDUCTION INTERNAL FIXATION TIBIA</td>\n",
       "      <td>non_cancer</td>\n",
       "    </tr>\n",
       "    <tr>\n",
       "      <th>86633</th>\n",
       "      <td>Elbow - Other - severe constant pain or consta...</td>\n",
       "      <td>ELBOW/RADIAL HEAD ARTHROPLASTY</td>\n",
       "      <td>non_cancer</td>\n",
       "    </tr>\n",
       "  </tbody>\n",
       "</table>\n",
       "<p>86634 rows × 3 columns</p>\n",
       "</div>"
      ],
      "text/plain": [
       "                                bc_diagnosis_description  \\\n",
       "0                                       Urology other P1   \n",
       "1                                  Claudication - stable   \n",
       "2                               Obst/Gynecology other P3   \n",
       "3                                           Cleft Palate   \n",
       "4                    Scar without functional restriction   \n",
       "...                                                  ...   \n",
       "86629  Surveillance where assessment period 1 year or...   \n",
       "86630            Testicular cancer - radical orchiectomy   \n",
       "86631                            Otolaryngology other P1   \n",
       "86632  Knee - retained hardware - moderate to severe ...   \n",
       "86633  Elbow - Other - severe constant pain or consta...   \n",
       "\n",
       "                                ha_procedure_description      target  \n",
       "0                                    NEPHRECTOMY (ADULT)  non_cancer  \n",
       "1      FUSION - INSTRUMENTED, PLATING - POSTERIOR CER...  non_cancer  \n",
       "2                         THERMABLATION - ENDOMETRIAL #2  non_cancer  \n",
       "3                                 PALATE CLOSURE FISTULA  non_cancer  \n",
       "4                                CORRECTION OF ECTROPION  non_cancer  \n",
       "...                                                  ...         ...  \n",
       "86629                                COLONOSCOPY AND UGI  non_cancer  \n",
       "86630              ORCHIDECTOMY SIMPLE(SCROTAL APPROACH)  non_cancer  \n",
       "86631                                EAR EUA/MYRINGOTOMY  non_cancer  \n",
       "86632             OPEN REDUCTION INTERNAL FIXATION TIBIA  non_cancer  \n",
       "86633                     ELBOW/RADIAL HEAD ARTHROPLASTY  non_cancer  \n",
       "\n",
       "[86634 rows x 3 columns]"
      ]
     },
     "execution_count": 3,
     "metadata": {},
     "output_type": "execute_result"
    }
   ],
   "source": [
    "cancer_text"
   ]
  },
  {
   "cell_type": "code",
   "execution_count": 4,
   "id": "e23d77be",
   "metadata": {},
   "outputs": [
    {
     "name": "stderr",
     "output_type": "stream",
     "text": [
      "Device set to use cpu\n"
     ]
    }
   ],
   "source": [
    "# Load zero-shot classification pipeline\n",
    "classifier = pipeline(\"zero-shot-classification\", model=\"facebook/bart-large-mnli\")"
   ]
  },
  {
   "cell_type": "code",
   "execution_count": 6,
   "id": "5e003a1e",
   "metadata": {},
   "outputs": [],
   "source": [
    "# Candidate labels\n",
    "labels = [\"This is a cancer surgery procedure\", \"This is not a cancer surgery procedure\"]"
   ]
  },
  {
   "cell_type": "code",
   "execution_count": 7,
   "id": "472b4891",
   "metadata": {},
   "outputs": [],
   "source": [
    "# Add context can help the model understand the task better, play around it for a quite while and find the best one\n",
    "def add_context(procedure):\n",
    "    if pd.isna(procedure) or procedure.strip() == \"\":\n",
    "        return \"\"\n",
    "    return f\"Procedure performed: {procedure}.\"\n",
    "\n",
    "# Use in your pipeline\n",
    "cancer_text[\"procedure_context\"] = cancer_text[\"ha_procedure_description\"].apply(add_context)"
   ]
  },
  {
   "cell_type": "markdown",
   "id": "e1589fe5",
   "metadata": {},
   "source": [
    "### Run classification"
   ]
  },
  {
   "cell_type": "code",
   "execution_count": 8,
   "id": "e0bc4c4b",
   "metadata": {},
   "outputs": [],
   "source": [
    "def classify_procedure(text):\n",
    "    if pd.isna(text) or not str(text).strip():\n",
    "        return \"unknown\", 0.0\n",
    "    result = classifier(str(text), labels)\n",
    "    return result[\"labels\"][0], float(result[\"scores\"][0])\n",
    "\n",
    "# Get unique values\n",
    "unique_texts = cancer_text[\"procedure_context\"].dropna().unique()\n",
    "\n",
    "# a lookup dictionary with classification results\n",
    "classification_lookup = {\n",
    "    text: classify_procedure(text) for text in unique_texts\n",
    "}\n",
    "\n",
    "# Step 3: Map back to the full DataFrame\n",
    "cancer_text[\"prediction\"], cancer_text[\"confidence\"] = zip(*cancer_text[\"procedure_context\"].map(\n",
    "    lambda x: classification_lookup.get(x, (\"unknown\", 0.0))\n",
    "))\n"
   ]
  },
  {
   "cell_type": "code",
   "execution_count": 61,
   "id": "10d54775",
   "metadata": {},
   "outputs": [],
   "source": [
    "unique_texts = cancer_text[\"procedure_context\"].dropna().unique()"
   ]
  },
  {
   "cell_type": "code",
   "execution_count": 10,
   "id": "7eb073c9",
   "metadata": {},
   "outputs": [
    {
     "data": {
      "application/vnd.microsoft.datawrangler.viewer.v0+json": {
       "columns": [
        {
         "name": "index",
         "rawType": "int64",
         "type": "integer"
        },
        {
         "name": "bc_diagnosis_description",
         "rawType": "object",
         "type": "unknown"
        },
        {
         "name": "ha_procedure_description",
         "rawType": "object",
         "type": "string"
        },
        {
         "name": "target",
         "rawType": "object",
         "type": "string"
        },
        {
         "name": "procedure_context",
         "rawType": "object",
         "type": "string"
        },
        {
         "name": "prediction",
         "rawType": "object",
         "type": "string"
        },
        {
         "name": "confidence",
         "rawType": "float64",
         "type": "float"
        },
        {
         "name": "true_label",
         "rawType": "object",
         "type": "string"
        }
       ],
       "ref": "61591a6b-ee49-4a4a-a211-b65c18886793",
       "rows": [
        [
         "0",
         "Urology other P1",
         "NEPHRECTOMY (ADULT)",
         "non_cancer",
         "Procedure performed: NEPHRECTOMY (ADULT).",
         "This is not a cancer surgery procedure",
         "0.8581631183624268",
         "non_cancer"
        ],
        [
         "1",
         "Claudication - stable",
         "FUSION - INSTRUMENTED, PLATING - POSTERIOR CERVICAL",
         "non_cancer",
         "Procedure performed: FUSION - INSTRUMENTED, PLATING - POSTERIOR CERVICAL.",
         "This is a cancer surgery procedure",
         "0.736240565776825",
         "non_cancer"
        ],
        [
         "2",
         "Obst/Gynecology other P3",
         "THERMABLATION - ENDOMETRIAL #2",
         "non_cancer",
         "Procedure performed: THERMABLATION - ENDOMETRIAL #2.",
         "This is a cancer surgery procedure",
         "0.7166747450828552",
         "non_cancer"
        ],
        [
         "3",
         "Cleft Palate",
         "PALATE CLOSURE FISTULA",
         "non_cancer",
         "Procedure performed: PALATE CLOSURE FISTULA.",
         "This is not a cancer surgery procedure",
         "0.8092458248138428",
         "non_cancer"
        ],
        [
         "4",
         "Scar without functional restriction",
         "CORRECTION OF ECTROPION",
         "non_cancer",
         "Procedure performed: CORRECTION OF ECTROPION.",
         "This is a cancer surgery procedure",
         "0.6867384910583496",
         "non_cancer"
        ],
        [
         "5",
         "General surgery other P1",
         "LAPAROSCOPIC CHOLECYSTECTOMY, CHOLANGIOGRAMS",
         "non_cancer",
         "Procedure performed: LAPAROSCOPIC CHOLECYSTECTOMY, CHOLANGIOGRAMS.",
         "This is a cancer surgery procedure",
         "0.9908793568611145",
         "non_cancer"
        ],
        [
         "6",
         "General surgery other P5",
         "THYROIDECTOMY",
         "non_cancer",
         "Procedure performed: THYROIDECTOMY.",
         "This is a cancer surgery procedure",
         "0.848793089389801",
         "non_cancer"
        ],
        [
         "7",
         "Shoulder - malalignment/malunion - severe constant pain or constant functional deficit, imminent threat to role or independence",
         "SHOULDER TOTAL ARTHROPLASTY REVERSE",
         "non_cancer",
         "Procedure performed: SHOULDER TOTAL ARTHROPLASTY REVERSE.",
         "This is a cancer surgery procedure",
         "0.7114555835723877",
         "non_cancer"
        ],
        [
         "8",
         "Cancer ovary, fallopian tube or peritoneum",
         "MIS DIAGNOSTIC GYNE",
         "non_cancer",
         "Procedure performed: MIS DIAGNOSTIC GYNE.",
         "This is a cancer surgery procedure",
         "0.5644646883010864",
         "non_cancer"
        ],
        [
         "9",
         "Knee joint - soft tissue - benign lesion",
         "KNEE ARTHROSCOPY UNILATERAL",
         "non_cancer",
         "Procedure performed: KNEE ARTHROSCOPY UNILATERAL.",
         "This is not a cancer surgery procedure",
         "0.7700886726379395",
         "non_cancer"
        ],
        [
         "10",
         "Humerus - retained hardware - severe constant pain or constant functional deficit, imminent threat to role or independence",
         "REMOVAL PEDIATRIC IM NAIL",
         "non_cancer",
         "Procedure performed: REMOVAL PEDIATRIC IM NAIL.",
         "This is not a cancer surgery procedure",
         "0.9348501563072205",
         "non_cancer"
        ],
        [
         "11",
         "General surgery other P3",
         "LAPAROSCOPIC HERNIA REPAIR - INCISIONAL/VENTRAL",
         "non_cancer",
         "Procedure performed: LAPAROSCOPIC HERNIA REPAIR - INCISIONAL/VENTRAL.",
         "This is a cancer surgery procedure",
         "0.9909374713897705",
         "non_cancer"
        ],
        [
         "12",
         "Cutaneous malignant Melanoma or squamous cell carcinoma, T1N0",
         "EXCISION SINUS - PERINEAL",
         "non_cancer",
         "Procedure performed: EXCISION SINUS - PERINEAL.",
         "This is not a cancer surgery procedure",
         "0.6618008017539978",
         "non_cancer"
        ],
        [
         "13",
         "Urology other P3",
         "ORCHIECTOMY BILATERAL",
         "non_cancer",
         "Procedure performed: ORCHIECTOMY BILATERAL.",
         "This is a cancer surgery procedure",
         "0.9447703957557678",
         "non_cancer"
        ],
        [
         "14",
         "Myringotomy and tubes for recurrent otitis media",
         "EAR-TYMPANOPLASTY -UNILATERAL",
         "non_cancer",
         "Procedure performed: EAR-TYMPANOPLASTY -UNILATERAL.",
         "This is a cancer surgery procedure",
         "0.5693426132202148",
         "non_cancer"
        ],
        [
         "15",
         "Shoulder - arthritis/joint degeneration - mild pain, but tolerable functional deficit",
         "PROCEDURE ABORTED IN OR",
         "non_cancer",
         "Procedure performed: PROCEDURE ABORTED IN OR.",
         "This is not a cancer surgery procedure",
         "0.6402444839477539",
         "non_cancer"
        ],
        [
         "16",
         "Breast cancer surgery - regular",
         "BREAST-EXCISION & BIOPSY LUMP ULTRASOUND-UNILATERAL",
         "non_cancer",
         "Procedure performed: BREAST-EXCISION & BIOPSY LUMP ULTRASOUND-UNILATERAL.",
         "This is a cancer surgery procedure",
         "0.9148067235946655",
         "non_cancer"
        ],
        [
         "17",
         "Umbilical Hernia",
         "REPAIR-HERNIA-INGUINAL-LAPAROSCOPY",
         "non_cancer",
         "Procedure performed: REPAIR-HERNIA-INGUINAL-LAPAROSCOPY.",
         "This is a cancer surgery procedure",
         "0.9203168749809265",
         "non_cancer"
        ],
        [
         "18",
         "Foreign body",
         "MAXILLA OSTEOTOMY SEGMENTAL",
         "non_cancer",
         "Procedure performed: MAXILLA OSTEOTOMY SEGMENTAL.",
         "This is a cancer surgery procedure",
         "0.5265037417411804",
         "non_cancer"
        ],
        [
         "19",
         "Hypermastia and all other benign breast conditions",
         "RECONSTRUCTION BREAST WITH IMMEDIATE PROSTHESIS BILATERAL",
         "non_cancer",
         "Procedure performed: RECONSTRUCTION BREAST WITH IMMEDIATE PROSTHESIS BILATERAL.",
         "This is a cancer surgery procedure",
         "0.8348743915557861",
         "non_cancer"
        ],
        [
         "20",
         "Visceral or renal aneurysm",
         "AORTA RENAL BYPASS GRAFT",
         "non_cancer",
         "Procedure performed: AORTA RENAL BYPASS GRAFT.",
         "This is not a cancer surgery procedure",
         "0.6171823740005493",
         "non_cancer"
        ],
        [
         "21",
         "Urology other P4",
         "LAPAROTOMY EXCISION RETROPERITONEAL MASS",
         "non_cancer",
         "Procedure performed: LAPAROTOMY EXCISION RETROPERITONEAL MASS.",
         "This is a cancer surgery procedure",
         "0.8134463429450989",
         "non_cancer"
        ],
        [
         "22",
         "Knee - infection - severe pain and/or urgent impairment/disability, immediate threat to role or independence - e.g. collapsed femoral head, AVN",
         "ARTHROSCOPY KNEE - DIAGNOSTIC",
         "non_cancer",
         "Procedure performed: ARTHROSCOPY KNEE - DIAGNOSTIC.",
         "This is not a cancer surgery procedure",
         "0.7734615802764893",
         "non_cancer"
        ],
        [
         "23",
         "Cutaneous or subcutaneous tumours -- confirmed or suspected malignancy",
         "BREAST BIOPSY/LUMPECTOMY W AXILLARY DISSECTION",
         "non_cancer",
         "Procedure performed: BREAST BIOPSY/LUMPECTOMY W AXILLARY DISSECTION.",
         "This is a cancer surgery procedure",
         "0.9577299952507019",
         "non_cancer"
        ],
        [
         "24",
         "Urology other P4",
         "CYSTOSCOPY WITH STENT REMOVAL",
         "non_cancer",
         "Procedure performed: CYSTOSCOPY WITH STENT REMOVAL.",
         "This is a cancer surgery procedure",
         "0.9363770484924316",
         "non_cancer"
        ],
        [
         "25",
         "Hand condition: little or no pain - tolerable functional deficit - intermittent severe pain restricting activity (e.g. Dupuytren's- ganglion- stiff joint)",
         "HAND MINOR SURGERY/ORTHO",
         "non_cancer",
         "Procedure performed: HAND MINOR SURGERY/ORTHO.",
         "This is not a cancer surgery procedure",
         "0.971088171005249",
         "non_cancer"
        ],
        [
         "26",
         "Anal fistula with sepsis",
         "BIOPSY/EXCISION LESION - ANUS",
         "non_cancer",
         "Procedure performed: BIOPSY/EXCISION LESION - ANUS.",
         "This is a cancer surgery procedure",
         "0.8722787499427795",
         "non_cancer"
        ],
        [
         "27",
         "Indeterminate",
         "EXCISION WIDE LOWER BODY/LIMB MINOR UNILATERAL",
         "non_cancer",
         "Procedure performed: EXCISION WIDE LOWER BODY/LIMB MINOR UNILATERAL.",
         "This is not a cancer surgery procedure",
         "0.5750977993011475",
         "non_cancer"
        ],
        [
         "28",
         "Elbow - bony/labral impingement - mild pain, but tolerable functional deficit",
         "EXCISION BONE - ELBOW/HUMERUS",
         "non_cancer",
         "Procedure performed: EXCISION BONE - ELBOW/HUMERUS.",
         "This is not a cancer surgery procedure",
         "0.7459805011749268",
         "non_cancer"
        ],
        [
         "29",
         "Vulvar hypertrophy",
         "LESION/CYST/LIPOMA EXCISION LIMB/TRUNK",
         "non_cancer",
         "Procedure performed: LESION/CYST/LIPOMA EXCISION LIMB/TRUNK.",
         "This is a cancer surgery procedure",
         "0.8921919465065002",
         "non_cancer"
        ],
        [
         "30",
         "Tibia-Fibula - Other - severe pain and/or urgent impairment/disability, immediate threat to role or independence - e.g. collapsed femoral head, AVN",
         "IRRIGATION/DEBRIDEMENT - LOWER EXTREMITY",
         "non_cancer",
         "Procedure performed: IRRIGATION/DEBRIDEMENT - LOWER EXTREMITY.",
         "This is not a cancer surgery procedure",
         "0.7836937308311462",
         "non_cancer"
        ],
        [
         "31",
         "Cornea opacity or disease for transplantation",
         "WASHOUT ANTERIOR CHAMBER",
         "non_cancer",
         "Procedure performed: WASHOUT ANTERIOR CHAMBER.",
         "This is not a cancer surgery procedure",
         "0.6394680738449097",
         "non_cancer"
        ],
        [
         "32",
         "Benign Tumour with limited functional impairment (e.g. lipoma)",
         "EUA/EXPLORE/REMOVE FOREIGN BODY - BACK",
         "non_cancer",
         "Procedure performed: EUA/EXPLORE/REMOVE FOREIGN BODY - BACK.",
         "This is a cancer surgery procedure",
         "0.5306356549263",
         "non_cancer"
        ],
        [
         "33",
         "Elective hand surgery with loss of ability to work",
         "FINGER TENDON REPAIR",
         "non_cancer",
         "Procedure performed: FINGER TENDON REPAIR.",
         "This is not a cancer surgery procedure",
         "0.974388599395752",
         "non_cancer"
        ],
        [
         "34",
         "Hand condition: moderate to severe constant pain or constant functional deficit - imminent threat to role or independence",
         "CLOSED REDUCTION PERCUTANEOUS PINNING - FINGER/HAND",
         "non_cancer",
         "Procedure performed: CLOSED REDUCTION PERCUTANEOUS PINNING - FINGER/HAND.",
         "This is not a cancer surgery procedure",
         "0.7304577231407166",
         "non_cancer"
        ],
        [
         "35",
         "Plastic surgery other P4",
         "EXCISION/BIOPSY LESION - PERINEUM",
         "non_cancer",
         "Procedure performed: EXCISION/BIOPSY LESION - PERINEUM.",
         "This is a cancer surgery procedure",
         "0.8075817227363586",
         "non_cancer"
        ],
        [
         "36",
         "Hiatus hernia (type I only) with no complication",
         "RESECTION LUNG WEDGE WITH BULLECTOMY AND BIOPSY VATS",
         "non_cancer",
         "Procedure performed: RESECTION LUNG WEDGE WITH BULLECTOMY AND BIOPSY VATS.",
         "This is a cancer surgery procedure",
         "0.5026283860206604",
         "non_cancer"
        ],
        [
         "37",
         "Surveillance where assessment period 1 year or over; wait time starts at date surveillance is due - BCCA screening program",
         "MEDICAL ENDO COLONOSCOPY (SURVEILLANCE NO CSP)",
         "non_cancer",
         "Procedure performed: MEDICAL ENDO COLONOSCOPY (SURVEILLANCE NO CSP).",
         "This is a cancer surgery procedure",
         "0.9917371273040771",
         "non_cancer"
        ],
        [
         "38",
         "General surgery other P4",
         "RESECTION ABDOMINOPERINEAL LAPAROSCOPIC",
         "non_cancer",
         "Procedure performed: RESECTION ABDOMINOPERINEAL LAPAROSCOPIC.",
         "This is a cancer surgery procedure",
         "0.7178720235824585",
         "non_cancer"
        ],
        [
         "39",
         "Hand and/or Wrist - joint internal derangement (includes patients with loose body/meniscal tear impingement) - mild pain, but tolerable functional deficit",
         "HAND MINOR SURGERY/ORTHO",
         "non_cancer",
         "Procedure performed: HAND MINOR SURGERY/ORTHO.",
         "This is not a cancer surgery procedure",
         "0.971088171005249",
         "non_cancer"
        ],
        [
         "40",
         "Inguinal or femoral hernia",
         "EXAM UNDER ANAESTHESIA",
         "non_cancer",
         "Procedure performed: EXAM UNDER ANAESTHESIA.",
         "This is not a cancer surgery procedure",
         "0.942341685295105",
         "non_cancer"
        ],
        [
         "41",
         "Foot - tendon dysfunction - moderate to severe pain with significant or severe functional limitation",
         "FOOT EXCISE EXOSTOSIS UNILATERAL",
         "non_cancer",
         "Procedure performed: FOOT EXCISE EXOSTOSIS UNILATERAL.",
         "This is not a cancer surgery procedure",
         "0.6791553497314453",
         "non_cancer"
        ],
        [
         "42",
         "Ankle - retained hardware - severe constant pain or constant functional deficit, imminent threat to role or independence",
         "REMOVAL INTERNAL FIXATION DEVICE - ANKLE",
         "non_cancer",
         "Procedure performed: REMOVAL INTERNAL FIXATION DEVICE - ANKLE.",
         "This is not a cancer surgery procedure",
         "0.6215714812278748",
         "non_cancer"
        ],
        [
         "43",
         "General surgery other P5",
         "NODE DISSECTION/EXCISION MASS NECK",
         "non_cancer",
         "Procedure performed: NODE DISSECTION/EXCISION MASS NECK.",
         "This is a cancer surgery procedure",
         "0.7944110631942749",
         "non_cancer"
        ],
        [
         "44",
         "Knee - ligament dysfunction - mild pain, but tolerable functional deficit",
         "ARTHROSCOPY HIP",
         "non_cancer",
         "Procedure performed: ARTHROSCOPY HIP.",
         "This is a cancer surgery procedure",
         "0.7107264399528503",
         "non_cancer"
        ],
        [
         "45",
         "Chronic renal failure - failing dialysis access",
         "BRACHIAL ARTERY REPAIR",
         "non_cancer",
         "Procedure performed: BRACHIAL ARTERY REPAIR.",
         "This is not a cancer surgery procedure",
         "0.8582088947296143",
         "non_cancer"
        ],
        [
         "46",
         "Osteochondritis Dissecans - unstable",
         "CHONDROPLASTY - KNEE",
         "non_cancer",
         "Procedure performed: CHONDROPLASTY - KNEE.",
         "This is not a cancer surgery procedure",
         "0.6903136968612671",
         "non_cancer"
        ],
        [
         "47",
         "Foot - arthritis/joint degeneration - severe constant pain or constant functional deficit, imminent threat to role or independence",
         "ARTHRODESIS - HINDFOOT",
         "non_cancer",
         "Procedure performed: ARTHRODESIS - HINDFOOT.",
         "This is not a cancer surgery procedure",
         "0.9522773027420044",
         "non_cancer"
        ],
        [
         "48",
         "Shoulder - malalignment/malunion - severe pain and/or urgent impairment/disability, immediate threat to role or independence - e.g. collapsed femoral head, AVN",
         "RECONSTRUCTION - SHOULDER",
         "non_cancer",
         "Procedure performed: RECONSTRUCTION - SHOULDER.",
         "This is not a cancer surgery procedure",
         "0.8033339977264404",
         "non_cancer"
        ],
        [
         "49",
         "Knee - arthritis/joint degeneration - mild pain, but tolerable functional deficit",
         "KNEE ARTHROPLASTY TOTAL UNICOMPARTMENTAL OXFORD UNILATERAL",
         "non_cancer",
         "Procedure performed: KNEE ARTHROPLASTY TOTAL UNICOMPARTMENTAL OXFORD UNILATERAL.",
         "This is not a cancer surgery procedure",
         "0.8052903413772583",
         "non_cancer"
        ]
       ],
       "shape": {
        "columns": 7,
        "rows": 86634
       }
      },
      "text/html": [
       "<div>\n",
       "<style scoped>\n",
       "    .dataframe tbody tr th:only-of-type {\n",
       "        vertical-align: middle;\n",
       "    }\n",
       "\n",
       "    .dataframe tbody tr th {\n",
       "        vertical-align: top;\n",
       "    }\n",
       "\n",
       "    .dataframe thead th {\n",
       "        text-align: right;\n",
       "    }\n",
       "</style>\n",
       "<table border=\"1\" class=\"dataframe\">\n",
       "  <thead>\n",
       "    <tr style=\"text-align: right;\">\n",
       "      <th></th>\n",
       "      <th>bc_diagnosis_description</th>\n",
       "      <th>ha_procedure_description</th>\n",
       "      <th>target</th>\n",
       "      <th>procedure_context</th>\n",
       "      <th>prediction</th>\n",
       "      <th>confidence</th>\n",
       "      <th>true_label</th>\n",
       "    </tr>\n",
       "  </thead>\n",
       "  <tbody>\n",
       "    <tr>\n",
       "      <th>0</th>\n",
       "      <td>Urology other P1</td>\n",
       "      <td>NEPHRECTOMY (ADULT)</td>\n",
       "      <td>non_cancer</td>\n",
       "      <td>Procedure performed: NEPHRECTOMY (ADULT).</td>\n",
       "      <td>This is not a cancer surgery procedure</td>\n",
       "      <td>0.858163</td>\n",
       "      <td>non_cancer</td>\n",
       "    </tr>\n",
       "    <tr>\n",
       "      <th>1</th>\n",
       "      <td>Claudication - stable</td>\n",
       "      <td>FUSION - INSTRUMENTED, PLATING - POSTERIOR CER...</td>\n",
       "      <td>non_cancer</td>\n",
       "      <td>Procedure performed: FUSION - INSTRUMENTED, PL...</td>\n",
       "      <td>This is a cancer surgery procedure</td>\n",
       "      <td>0.736241</td>\n",
       "      <td>non_cancer</td>\n",
       "    </tr>\n",
       "    <tr>\n",
       "      <th>2</th>\n",
       "      <td>Obst/Gynecology other P3</td>\n",
       "      <td>THERMABLATION - ENDOMETRIAL #2</td>\n",
       "      <td>non_cancer</td>\n",
       "      <td>Procedure performed: THERMABLATION - ENDOMETRI...</td>\n",
       "      <td>This is a cancer surgery procedure</td>\n",
       "      <td>0.716675</td>\n",
       "      <td>non_cancer</td>\n",
       "    </tr>\n",
       "    <tr>\n",
       "      <th>3</th>\n",
       "      <td>Cleft Palate</td>\n",
       "      <td>PALATE CLOSURE FISTULA</td>\n",
       "      <td>non_cancer</td>\n",
       "      <td>Procedure performed: PALATE CLOSURE FISTULA.</td>\n",
       "      <td>This is not a cancer surgery procedure</td>\n",
       "      <td>0.809246</td>\n",
       "      <td>non_cancer</td>\n",
       "    </tr>\n",
       "    <tr>\n",
       "      <th>4</th>\n",
       "      <td>Scar without functional restriction</td>\n",
       "      <td>CORRECTION OF ECTROPION</td>\n",
       "      <td>non_cancer</td>\n",
       "      <td>Procedure performed: CORRECTION OF ECTROPION.</td>\n",
       "      <td>This is a cancer surgery procedure</td>\n",
       "      <td>0.686738</td>\n",
       "      <td>non_cancer</td>\n",
       "    </tr>\n",
       "    <tr>\n",
       "      <th>...</th>\n",
       "      <td>...</td>\n",
       "      <td>...</td>\n",
       "      <td>...</td>\n",
       "      <td>...</td>\n",
       "      <td>...</td>\n",
       "      <td>...</td>\n",
       "      <td>...</td>\n",
       "    </tr>\n",
       "    <tr>\n",
       "      <th>86629</th>\n",
       "      <td>Surveillance where assessment period 1 year or...</td>\n",
       "      <td>COLONOSCOPY AND UGI</td>\n",
       "      <td>non_cancer</td>\n",
       "      <td>Procedure performed: COLONOSCOPY AND UGI.</td>\n",
       "      <td>This is a cancer surgery procedure</td>\n",
       "      <td>0.991202</td>\n",
       "      <td>non_cancer</td>\n",
       "    </tr>\n",
       "    <tr>\n",
       "      <th>86630</th>\n",
       "      <td>Testicular cancer - radical orchiectomy</td>\n",
       "      <td>ORCHIDECTOMY SIMPLE(SCROTAL APPROACH)</td>\n",
       "      <td>non_cancer</td>\n",
       "      <td>Procedure performed: ORCHIDECTOMY SIMPLE(SCROT...</td>\n",
       "      <td>This is a cancer surgery procedure</td>\n",
       "      <td>0.884056</td>\n",
       "      <td>non_cancer</td>\n",
       "    </tr>\n",
       "    <tr>\n",
       "      <th>86631</th>\n",
       "      <td>Otolaryngology other P1</td>\n",
       "      <td>EAR EUA/MYRINGOTOMY</td>\n",
       "      <td>non_cancer</td>\n",
       "      <td>Procedure performed: EAR EUA/MYRINGOTOMY.</td>\n",
       "      <td>This is a cancer surgery procedure</td>\n",
       "      <td>0.803213</td>\n",
       "      <td>non_cancer</td>\n",
       "    </tr>\n",
       "    <tr>\n",
       "      <th>86632</th>\n",
       "      <td>Knee - retained hardware - moderate to severe ...</td>\n",
       "      <td>OPEN REDUCTION INTERNAL FIXATION TIBIA</td>\n",
       "      <td>non_cancer</td>\n",
       "      <td>Procedure performed: OPEN REDUCTION INTERNAL F...</td>\n",
       "      <td>This is a cancer surgery procedure</td>\n",
       "      <td>0.743605</td>\n",
       "      <td>non_cancer</td>\n",
       "    </tr>\n",
       "    <tr>\n",
       "      <th>86633</th>\n",
       "      <td>Elbow - Other - severe constant pain or consta...</td>\n",
       "      <td>ELBOW/RADIAL HEAD ARTHROPLASTY</td>\n",
       "      <td>non_cancer</td>\n",
       "      <td>Procedure performed: ELBOW/RADIAL HEAD ARTHROP...</td>\n",
       "      <td>This is a cancer surgery procedure</td>\n",
       "      <td>0.594376</td>\n",
       "      <td>non_cancer</td>\n",
       "    </tr>\n",
       "  </tbody>\n",
       "</table>\n",
       "<p>86634 rows × 7 columns</p>\n",
       "</div>"
      ],
      "text/plain": [
       "                                bc_diagnosis_description  \\\n",
       "0                                       Urology other P1   \n",
       "1                                  Claudication - stable   \n",
       "2                               Obst/Gynecology other P3   \n",
       "3                                           Cleft Palate   \n",
       "4                    Scar without functional restriction   \n",
       "...                                                  ...   \n",
       "86629  Surveillance where assessment period 1 year or...   \n",
       "86630            Testicular cancer - radical orchiectomy   \n",
       "86631                            Otolaryngology other P1   \n",
       "86632  Knee - retained hardware - moderate to severe ...   \n",
       "86633  Elbow - Other - severe constant pain or consta...   \n",
       "\n",
       "                                ha_procedure_description      target  \\\n",
       "0                                    NEPHRECTOMY (ADULT)  non_cancer   \n",
       "1      FUSION - INSTRUMENTED, PLATING - POSTERIOR CER...  non_cancer   \n",
       "2                         THERMABLATION - ENDOMETRIAL #2  non_cancer   \n",
       "3                                 PALATE CLOSURE FISTULA  non_cancer   \n",
       "4                                CORRECTION OF ECTROPION  non_cancer   \n",
       "...                                                  ...         ...   \n",
       "86629                                COLONOSCOPY AND UGI  non_cancer   \n",
       "86630              ORCHIDECTOMY SIMPLE(SCROTAL APPROACH)  non_cancer   \n",
       "86631                                EAR EUA/MYRINGOTOMY  non_cancer   \n",
       "86632             OPEN REDUCTION INTERNAL FIXATION TIBIA  non_cancer   \n",
       "86633                     ELBOW/RADIAL HEAD ARTHROPLASTY  non_cancer   \n",
       "\n",
       "                                       procedure_context  \\\n",
       "0              Procedure performed: NEPHRECTOMY (ADULT).   \n",
       "1      Procedure performed: FUSION - INSTRUMENTED, PL...   \n",
       "2      Procedure performed: THERMABLATION - ENDOMETRI...   \n",
       "3           Procedure performed: PALATE CLOSURE FISTULA.   \n",
       "4          Procedure performed: CORRECTION OF ECTROPION.   \n",
       "...                                                  ...   \n",
       "86629          Procedure performed: COLONOSCOPY AND UGI.   \n",
       "86630  Procedure performed: ORCHIDECTOMY SIMPLE(SCROT...   \n",
       "86631          Procedure performed: EAR EUA/MYRINGOTOMY.   \n",
       "86632  Procedure performed: OPEN REDUCTION INTERNAL F...   \n",
       "86633  Procedure performed: ELBOW/RADIAL HEAD ARTHROP...   \n",
       "\n",
       "                                   prediction  confidence  true_label  \n",
       "0      This is not a cancer surgery procedure    0.858163  non_cancer  \n",
       "1          This is a cancer surgery procedure    0.736241  non_cancer  \n",
       "2          This is a cancer surgery procedure    0.716675  non_cancer  \n",
       "3      This is not a cancer surgery procedure    0.809246  non_cancer  \n",
       "4          This is a cancer surgery procedure    0.686738  non_cancer  \n",
       "...                                       ...         ...         ...  \n",
       "86629      This is a cancer surgery procedure    0.991202  non_cancer  \n",
       "86630      This is a cancer surgery procedure    0.884056  non_cancer  \n",
       "86631      This is a cancer surgery procedure    0.803213  non_cancer  \n",
       "86632      This is a cancer surgery procedure    0.743605  non_cancer  \n",
       "86633      This is a cancer surgery procedure    0.594376  non_cancer  \n",
       "\n",
       "[86634 rows x 7 columns]"
      ]
     },
     "execution_count": 10,
     "metadata": {},
     "output_type": "execute_result"
    }
   ],
   "source": [
    "cancer_text"
   ]
  },
  {
   "cell_type": "code",
   "execution_count": 12,
   "id": "ec9dc336",
   "metadata": {},
   "outputs": [],
   "source": [
    "#df_unique = df.drop_duplicates(subset=[\"procedure\"], keep=\"first\")\n",
    "\n",
    "cancer_text.to_csv(\"../data/llm_baseline_train_data_result.csv\", index=False)"
   ]
  },
  {
   "cell_type": "code",
   "execution_count": 11,
   "id": "ee604997",
   "metadata": {},
   "outputs": [
    {
     "name": "stdout",
     "output_type": "stream",
     "text": [
      "[[  251   730]\n",
      " [40681 44972]]\n",
      "                   precision    recall  f1-score   support\n",
      "\n",
      "      cancer case       0.01      0.26      0.01       981\n",
      "not a cancer case       0.98      0.53      0.68     85653\n",
      "\n",
      "         accuracy                           0.52     86634\n",
      "        macro avg       0.50      0.39      0.35     86634\n",
      "     weighted avg       0.97      0.52      0.68     86634\n",
      "\n"
     ]
    }
   ],
   "source": [
    "cancer_text[\"prediction\"] = cancer_text[\"prediction\"].replace({\n",
    "    \"This is a cancer surgery procedure\": \"non_cancer\",\n",
    "    \"This is not a cancer surgery procedure\": \"cancer\"\n",
    "})\n",
    "cancer_text[\"true_label\"] = cancer_text[\"target\"].apply(lambda x: \"non_cancer\" if x == \"non_cancer\" else \"cancer\")\n",
    "\n",
    "y_true = cancer_text[\"true_label\"]\n",
    "y_pred = cancer_text[\"prediction\"]\n",
    "\n",
    "print(confusion_matrix(y_true, y_pred, labels=[\"cancer\", \"non_cancer\"]))\n",
    "print(classification_report(y_true, y_pred, target_names=[\"cancer case\", \"not a cancer case\"]))\n"
   ]
  },
  {
   "cell_type": "code",
   "execution_count": 14,
   "id": "df05a5f0",
   "metadata": {},
   "outputs": [
    {
     "data": {
      "text/plain": [
       "0.49507953940611865"
      ]
     },
     "execution_count": 14,
     "metadata": {},
     "output_type": "execute_result"
    }
   ],
   "source": [
    "from sklearn.metrics import precision_score\n",
    "precision_score(y_true, y_pred, average='macro')"
   ]
  }
 ],
 "metadata": {
  "kernelspec": {
   "display_name": "cancer-surgery-nlp",
   "language": "python",
   "name": "python3"
  },
  "language_info": {
   "codemirror_mode": {
    "name": "ipython",
    "version": 3
   },
   "file_extension": ".py",
   "mimetype": "text/x-python",
   "name": "python",
   "nbconvert_exporter": "python",
   "pygments_lexer": "ipython3",
   "version": "3.10.17"
  }
 },
 "nbformat": 4,
 "nbformat_minor": 5
}
