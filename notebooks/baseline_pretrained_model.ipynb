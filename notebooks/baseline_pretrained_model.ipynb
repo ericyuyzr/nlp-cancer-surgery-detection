{
 "cells": [
  {
   "cell_type": "code",
   "execution_count": 1,
   "id": "8f2c89d1",
   "metadata": {},
   "outputs": [
    {
     "name": "stderr",
     "output_type": "stream",
     "text": [
      "c:\\Users\\zhenrui.yu\\AppData\\Local\\miniconda3\\envs\\cancer-surgery-nlp\\lib\\site-packages\\tqdm\\auto.py:21: TqdmWarning: IProgress not found. Please update jupyter and ipywidgets. See https://ipywidgets.readthedocs.io/en/stable/user_install.html\n",
      "  from .autonotebook import tqdm as notebook_tqdm\n"
     ]
    }
   ],
   "source": [
    "from transformers import pipeline\n",
    "import pandas as pd\n",
    "from sklearn.metrics import classification_report, confusion_matrix"
   ]
  },
  {
   "cell_type": "code",
   "execution_count": 2,
   "id": "45155c0d",
   "metadata": {},
   "outputs": [],
   "source": [
    "cancer_text = pd.read_csv(\"../data/train_data_01.csv\")"
   ]
  },
  {
   "cell_type": "code",
   "execution_count": 3,
   "id": "72dd4231",
   "metadata": {},
   "outputs": [
    {
     "data": {
      "application/vnd.microsoft.datawrangler.viewer.v0+json": {
       "columns": [
        {
         "name": "index",
         "rawType": "int64",
         "type": "integer"
        },
        {
         "name": "bc_diagnosis_description",
         "rawType": "object",
         "type": "unknown"
        },
        {
         "name": "ha_procedure_description",
         "rawType": "object",
         "type": "string"
        },
        {
         "name": "target",
         "rawType": "object",
         "type": "string"
        }
       ],
       "ref": "b3888d91-7f33-4409-82ae-c1f2e604e804",
       "rows": [
        [
         "0",
         "Urology other P1",
         "NEPHRECTOMY (ADULT)",
         "non_cancer"
        ],
        [
         "1",
         "Claudication - stable",
         "FUSION - INSTRUMENTED, PLATING - POSTERIOR CERVICAL",
         "non_cancer"
        ],
        [
         "2",
         "Obst/Gynecology other P3",
         "THERMABLATION - ENDOMETRIAL #2",
         "non_cancer"
        ],
        [
         "3",
         "Cleft Palate",
         "PALATE CLOSURE FISTULA",
         "non_cancer"
        ],
        [
         "4",
         "Scar without functional restriction",
         "CORRECTION OF ECTROPION",
         "non_cancer"
        ],
        [
         "5",
         "General surgery other P1",
         "LAPAROSCOPIC CHOLECYSTECTOMY, CHOLANGIOGRAMS",
         "non_cancer"
        ],
        [
         "6",
         "General surgery other P5",
         "THYROIDECTOMY",
         "non_cancer"
        ],
        [
         "7",
         "Shoulder - malalignment/malunion - severe constant pain or constant functional deficit, imminent threat to role or independence",
         "SHOULDER TOTAL ARTHROPLASTY REVERSE",
         "non_cancer"
        ],
        [
         "8",
         "Cancer ovary, fallopian tube or peritoneum",
         "MIS DIAGNOSTIC GYNE",
         "non_cancer"
        ],
        [
         "9",
         "Knee joint - soft tissue - benign lesion",
         "KNEE ARTHROSCOPY UNILATERAL",
         "non_cancer"
        ],
        [
         "10",
         "Humerus - retained hardware - severe constant pain or constant functional deficit, imminent threat to role or independence",
         "REMOVAL PEDIATRIC IM NAIL",
         "non_cancer"
        ],
        [
         "11",
         "General surgery other P3",
         "LAPAROSCOPIC HERNIA REPAIR - INCISIONAL/VENTRAL",
         "non_cancer"
        ],
        [
         "12",
         "Cutaneous malignant Melanoma or squamous cell carcinoma, T1N0",
         "EXCISION SINUS - PERINEAL",
         "non_cancer"
        ],
        [
         "13",
         "Urology other P3",
         "ORCHIECTOMY BILATERAL",
         "non_cancer"
        ],
        [
         "14",
         "Myringotomy and tubes for recurrent otitis media",
         "EAR-TYMPANOPLASTY -UNILATERAL",
         "non_cancer"
        ],
        [
         "15",
         "Shoulder - arthritis/joint degeneration - mild pain, but tolerable functional deficit",
         "PROCEDURE ABORTED IN OR",
         "non_cancer"
        ],
        [
         "16",
         "Breast cancer surgery - regular",
         "BREAST-EXCISION & BIOPSY LUMP ULTRASOUND-UNILATERAL",
         "non_cancer"
        ],
        [
         "17",
         "Umbilical Hernia",
         "REPAIR-HERNIA-INGUINAL-LAPAROSCOPY",
         "non_cancer"
        ],
        [
         "18",
         "Foreign body",
         "MAXILLA OSTEOTOMY SEGMENTAL",
         "non_cancer"
        ],
        [
         "19",
         "Hypermastia and all other benign breast conditions",
         "RECONSTRUCTION BREAST WITH IMMEDIATE PROSTHESIS BILATERAL",
         "non_cancer"
        ],
        [
         "20",
         "Visceral or renal aneurysm",
         "AORTA RENAL BYPASS GRAFT",
         "non_cancer"
        ],
        [
         "21",
         "Urology other P4",
         "LAPAROTOMY EXCISION RETROPERITONEAL MASS",
         "non_cancer"
        ],
        [
         "22",
         "Knee - infection - severe pain and/or urgent impairment/disability, immediate threat to role or independence - e.g. collapsed femoral head, AVN",
         "ARTHROSCOPY KNEE - DIAGNOSTIC",
         "non_cancer"
        ],
        [
         "23",
         "Cutaneous or subcutaneous tumours -- confirmed or suspected malignancy",
         "BREAST BIOPSY/LUMPECTOMY W AXILLARY DISSECTION",
         "non_cancer"
        ],
        [
         "24",
         "Urology other P4",
         "CYSTOSCOPY WITH STENT REMOVAL",
         "non_cancer"
        ],
        [
         "25",
         "Hand condition: little or no pain - tolerable functional deficit - intermittent severe pain restricting activity (e.g. Dupuytren's- ganglion- stiff joint)",
         "HAND MINOR SURGERY/ORTHO",
         "non_cancer"
        ],
        [
         "26",
         "Anal fistula with sepsis",
         "BIOPSY/EXCISION LESION - ANUS",
         "non_cancer"
        ],
        [
         "27",
         "Indeterminate",
         "EXCISION WIDE LOWER BODY/LIMB MINOR UNILATERAL",
         "non_cancer"
        ],
        [
         "28",
         "Elbow - bony/labral impingement - mild pain, but tolerable functional deficit",
         "EXCISION BONE - ELBOW/HUMERUS",
         "non_cancer"
        ],
        [
         "29",
         "Vulvar hypertrophy",
         "LESION/CYST/LIPOMA EXCISION LIMB/TRUNK",
         "non_cancer"
        ],
        [
         "30",
         "Tibia-Fibula - Other - severe pain and/or urgent impairment/disability, immediate threat to role or independence - e.g. collapsed femoral head, AVN",
         "IRRIGATION/DEBRIDEMENT - LOWER EXTREMITY",
         "non_cancer"
        ],
        [
         "31",
         "Cornea opacity or disease for transplantation",
         "WASHOUT ANTERIOR CHAMBER",
         "non_cancer"
        ],
        [
         "32",
         "Benign Tumour with limited functional impairment (e.g. lipoma)",
         "EUA/EXPLORE/REMOVE FOREIGN BODY - BACK",
         "non_cancer"
        ],
        [
         "33",
         "Elective hand surgery with loss of ability to work",
         "FINGER TENDON REPAIR",
         "non_cancer"
        ],
        [
         "34",
         "Hand condition: moderate to severe constant pain or constant functional deficit - imminent threat to role or independence",
         "CLOSED REDUCTION PERCUTANEOUS PINNING - FINGER/HAND",
         "non_cancer"
        ],
        [
         "35",
         "Plastic surgery other P4",
         "EXCISION/BIOPSY LESION - PERINEUM",
         "non_cancer"
        ],
        [
         "36",
         "Hiatus hernia (type I only) with no complication",
         "RESECTION LUNG WEDGE WITH BULLECTOMY AND BIOPSY VATS",
         "non_cancer"
        ],
        [
         "37",
         "Surveillance where assessment period 1 year or over; wait time starts at date surveillance is due - BCCA screening program",
         "MEDICAL ENDO COLONOSCOPY (SURVEILLANCE NO CSP)",
         "non_cancer"
        ],
        [
         "38",
         "General surgery other P4",
         "RESECTION ABDOMINOPERINEAL LAPAROSCOPIC",
         "non_cancer"
        ],
        [
         "39",
         "Hand and/or Wrist - joint internal derangement (includes patients with loose body/meniscal tear impingement) - mild pain, but tolerable functional deficit",
         "HAND MINOR SURGERY/ORTHO",
         "non_cancer"
        ],
        [
         "40",
         "Inguinal or femoral hernia",
         "EXAM UNDER ANAESTHESIA",
         "non_cancer"
        ],
        [
         "41",
         "Foot - tendon dysfunction - moderate to severe pain with significant or severe functional limitation",
         "FOOT EXCISE EXOSTOSIS UNILATERAL",
         "non_cancer"
        ],
        [
         "42",
         "Ankle - retained hardware - severe constant pain or constant functional deficit, imminent threat to role or independence",
         "REMOVAL INTERNAL FIXATION DEVICE - ANKLE",
         "non_cancer"
        ],
        [
         "43",
         "General surgery other P5",
         "NODE DISSECTION/EXCISION MASS NECK",
         "non_cancer"
        ],
        [
         "44",
         "Knee - ligament dysfunction - mild pain, but tolerable functional deficit",
         "ARTHROSCOPY HIP",
         "non_cancer"
        ],
        [
         "45",
         "Chronic renal failure - failing dialysis access",
         "BRACHIAL ARTERY REPAIR",
         "non_cancer"
        ],
        [
         "46",
         "Osteochondritis Dissecans - unstable",
         "CHONDROPLASTY - KNEE",
         "non_cancer"
        ],
        [
         "47",
         "Foot - arthritis/joint degeneration - severe constant pain or constant functional deficit, imminent threat to role or independence",
         "ARTHRODESIS - HINDFOOT",
         "non_cancer"
        ],
        [
         "48",
         "Shoulder - malalignment/malunion - severe pain and/or urgent impairment/disability, immediate threat to role or independence - e.g. collapsed femoral head, AVN",
         "RECONSTRUCTION - SHOULDER",
         "non_cancer"
        ],
        [
         "49",
         "Knee - arthritis/joint degeneration - mild pain, but tolerable functional deficit",
         "KNEE ARTHROPLASTY TOTAL UNICOMPARTMENTAL OXFORD UNILATERAL",
         "non_cancer"
        ]
       ],
       "shape": {
        "columns": 3,
        "rows": 86634
       }
      },
      "text/html": [
       "<div>\n",
       "<style scoped>\n",
       "    .dataframe tbody tr th:only-of-type {\n",
       "        vertical-align: middle;\n",
       "    }\n",
       "\n",
       "    .dataframe tbody tr th {\n",
       "        vertical-align: top;\n",
       "    }\n",
       "\n",
       "    .dataframe thead th {\n",
       "        text-align: right;\n",
       "    }\n",
       "</style>\n",
       "<table border=\"1\" class=\"dataframe\">\n",
       "  <thead>\n",
       "    <tr style=\"text-align: right;\">\n",
       "      <th></th>\n",
       "      <th>bc_diagnosis_description</th>\n",
       "      <th>ha_procedure_description</th>\n",
       "      <th>target</th>\n",
       "    </tr>\n",
       "  </thead>\n",
       "  <tbody>\n",
       "    <tr>\n",
       "      <th>0</th>\n",
       "      <td>Urology other P1</td>\n",
       "      <td>NEPHRECTOMY (ADULT)</td>\n",
       "      <td>non_cancer</td>\n",
       "    </tr>\n",
       "    <tr>\n",
       "      <th>1</th>\n",
       "      <td>Claudication - stable</td>\n",
       "      <td>FUSION - INSTRUMENTED, PLATING - POSTERIOR CER...</td>\n",
       "      <td>non_cancer</td>\n",
       "    </tr>\n",
       "    <tr>\n",
       "      <th>2</th>\n",
       "      <td>Obst/Gynecology other P3</td>\n",
       "      <td>THERMABLATION - ENDOMETRIAL #2</td>\n",
       "      <td>non_cancer</td>\n",
       "    </tr>\n",
       "    <tr>\n",
       "      <th>3</th>\n",
       "      <td>Cleft Palate</td>\n",
       "      <td>PALATE CLOSURE FISTULA</td>\n",
       "      <td>non_cancer</td>\n",
       "    </tr>\n",
       "    <tr>\n",
       "      <th>4</th>\n",
       "      <td>Scar without functional restriction</td>\n",
       "      <td>CORRECTION OF ECTROPION</td>\n",
       "      <td>non_cancer</td>\n",
       "    </tr>\n",
       "    <tr>\n",
       "      <th>...</th>\n",
       "      <td>...</td>\n",
       "      <td>...</td>\n",
       "      <td>...</td>\n",
       "    </tr>\n",
       "    <tr>\n",
       "      <th>86629</th>\n",
       "      <td>Surveillance where assessment period 1 year or...</td>\n",
       "      <td>COLONOSCOPY AND UGI</td>\n",
       "      <td>non_cancer</td>\n",
       "    </tr>\n",
       "    <tr>\n",
       "      <th>86630</th>\n",
       "      <td>Testicular cancer - radical orchiectomy</td>\n",
       "      <td>ORCHIDECTOMY SIMPLE(SCROTAL APPROACH)</td>\n",
       "      <td>non_cancer</td>\n",
       "    </tr>\n",
       "    <tr>\n",
       "      <th>86631</th>\n",
       "      <td>Otolaryngology other P1</td>\n",
       "      <td>EAR EUA/MYRINGOTOMY</td>\n",
       "      <td>non_cancer</td>\n",
       "    </tr>\n",
       "    <tr>\n",
       "      <th>86632</th>\n",
       "      <td>Knee - retained hardware - moderate to severe ...</td>\n",
       "      <td>OPEN REDUCTION INTERNAL FIXATION TIBIA</td>\n",
       "      <td>non_cancer</td>\n",
       "    </tr>\n",
       "    <tr>\n",
       "      <th>86633</th>\n",
       "      <td>Elbow - Other - severe constant pain or consta...</td>\n",
       "      <td>ELBOW/RADIAL HEAD ARTHROPLASTY</td>\n",
       "      <td>non_cancer</td>\n",
       "    </tr>\n",
       "  </tbody>\n",
       "</table>\n",
       "<p>86634 rows × 3 columns</p>\n",
       "</div>"
      ],
      "text/plain": [
       "                                bc_diagnosis_description  \\\n",
       "0                                       Urology other P1   \n",
       "1                                  Claudication - stable   \n",
       "2                               Obst/Gynecology other P3   \n",
       "3                                           Cleft Palate   \n",
       "4                    Scar without functional restriction   \n",
       "...                                                  ...   \n",
       "86629  Surveillance where assessment period 1 year or...   \n",
       "86630            Testicular cancer - radical orchiectomy   \n",
       "86631                            Otolaryngology other P1   \n",
       "86632  Knee - retained hardware - moderate to severe ...   \n",
       "86633  Elbow - Other - severe constant pain or consta...   \n",
       "\n",
       "                                ha_procedure_description      target  \n",
       "0                                    NEPHRECTOMY (ADULT)  non_cancer  \n",
       "1      FUSION - INSTRUMENTED, PLATING - POSTERIOR CER...  non_cancer  \n",
       "2                         THERMABLATION - ENDOMETRIAL #2  non_cancer  \n",
       "3                                 PALATE CLOSURE FISTULA  non_cancer  \n",
       "4                                CORRECTION OF ECTROPION  non_cancer  \n",
       "...                                                  ...         ...  \n",
       "86629                                COLONOSCOPY AND UGI  non_cancer  \n",
       "86630              ORCHIDECTOMY SIMPLE(SCROTAL APPROACH)  non_cancer  \n",
       "86631                                EAR EUA/MYRINGOTOMY  non_cancer  \n",
       "86632             OPEN REDUCTION INTERNAL FIXATION TIBIA  non_cancer  \n",
       "86633                     ELBOW/RADIAL HEAD ARTHROPLASTY  non_cancer  \n",
       "\n",
       "[86634 rows x 3 columns]"
      ]
     },
     "execution_count": 3,
     "metadata": {},
     "output_type": "execute_result"
    }
   ],
   "source": [
    "cancer_text"
   ]
  },
  {
   "cell_type": "code",
   "execution_count": 4,
   "id": "e23d77be",
   "metadata": {},
   "outputs": [
    {
     "name": "stderr",
     "output_type": "stream",
     "text": [
      "Device set to use cpu\n"
     ]
    }
   ],
   "source": [
    "# Load zero-shot classification pipeline\n",
    "classifier = pipeline(\"zero-shot-classification\", model=\"facebook/bart-large-mnli\")"
   ]
  },
  {
   "cell_type": "code",
   "execution_count": 6,
   "id": "5e003a1e",
   "metadata": {},
   "outputs": [],
   "source": [
    "# Candidate labels\n",
    "labels = [\"This is a cancer surgery procedure\", \"This is not a cancer surgery procedure\"]"
   ]
  },
  {
   "cell_type": "code",
   "execution_count": 7,
   "id": "472b4891",
   "metadata": {},
   "outputs": [],
   "source": [
    "# Add context can help the model understand the task better, play around it for a quite while and find the best one\n",
    "def add_context(procedure):\n",
    "    if pd.isna(procedure) or procedure.strip() == \"\":\n",
    "        return \"\"\n",
    "    return f\"Procedure performed: {procedure}.\"\n",
    "\n",
    "# Use in your pipeline\n",
    "cancer_text[\"procedure_context\"] = cancer_text[\"ha_procedure_description\"].apply(add_context)"
   ]
  },
  {
   "cell_type": "markdown",
   "id": "e1589fe5",
   "metadata": {},
   "source": [
    "### Run classification"
   ]
  },
  {
   "cell_type": "code",
   "execution_count": 8,
   "id": "e0bc4c4b",
   "metadata": {},
   "outputs": [],
   "source": [
    "def classify_procedure(text):\n",
    "    if pd.isna(text) or not str(text).strip():\n",
    "        return \"unknown\", 0.0\n",
    "    result = classifier(str(text), labels)\n",
    "    return result[\"labels\"][0], float(result[\"scores\"][0])\n",
    "\n",
    "# Get unique values\n",
    "unique_texts = cancer_text[\"procedure_context\"].dropna().unique()\n",
    "\n",
    "# a lookup dictionary with classification results\n",
    "classification_lookup = {\n",
    "    text: classify_procedure(text) for text in unique_texts\n",
    "}\n",
    "\n",
    "# Step 3: Map back to the full DataFrame\n",
    "cancer_text[\"prediction\"], cancer_text[\"confidence\"] = zip(*cancer_text[\"procedure_context\"].map(\n",
    "    lambda x: classification_lookup.get(x, (\"unknown\", 0.0))\n",
    "))\n"
   ]
  },
  {
   "cell_type": "code",
   "execution_count": 61,
   "id": "10d54775",
   "metadata": {},
   "outputs": [],
   "source": [
    "unique_texts = cancer_text[\"procedure_context\"].dropna().unique()"
   ]
  },
  {
   "cell_type": "code",
   "execution_count": 12,
   "id": "ec9dc336",
   "metadata": {},
   "outputs": [],
   "source": [
    "#df_unique = df.drop_duplicates(subset=[\"procedure\"], keep=\"first\")\n",
    "\n",
    "cancer_text.to_csv(\"../data/llm_baseline_train_data_result.csv\", index=False)"
   ]
  },
  {
   "cell_type": "code",
   "execution_count": 11,
   "id": "ee604997",
   "metadata": {},
   "outputs": [
    {
     "name": "stdout",
     "output_type": "stream",
     "text": [
      "[[  251   730]\n",
      " [40681 44972]]\n",
      "                   precision    recall  f1-score   support\n",
      "\n",
      "      cancer case       0.01      0.26      0.01       981\n",
      "not a cancer case       0.98      0.53      0.68     85653\n",
      "\n",
      "         accuracy                           0.52     86634\n",
      "        macro avg       0.50      0.39      0.35     86634\n",
      "     weighted avg       0.97      0.52      0.68     86634\n",
      "\n"
     ]
    }
   ],
   "source": [
    "cancer_text[\"prediction\"] = cancer_text[\"prediction\"].replace({\n",
    "    \"This is a cancer surgery procedure\": \"non_cancer\",\n",
    "    \"This is not a cancer surgery procedure\": \"cancer\"\n",
    "})\n",
    "cancer_text[\"true_label\"] = cancer_text[\"target\"].apply(lambda x: \"non_cancer\" if x == \"non_cancer\" else \"cancer\")\n",
    "\n",
    "y_true = cancer_text[\"true_label\"]\n",
    "y_pred = cancer_text[\"prediction\"]\n",
    "\n",
    "print(confusion_matrix(y_true, y_pred, labels=[\"cancer\", \"non_cancer\"]))\n",
    "print(classification_report(y_true, y_pred, target_names=[\"cancer case\", \"not a cancer case\"]))\n"
   ]
  },
  {
   "cell_type": "code",
   "execution_count": 14,
   "id": "df05a5f0",
   "metadata": {},
   "outputs": [
    {
     "data": {
      "text/plain": [
       "0.49507953940611865"
      ]
     },
     "execution_count": 14,
     "metadata": {},
     "output_type": "execute_result"
    }
   ],
   "source": [
    "from sklearn.metrics import precision_score\n",
    "precision_score(y_true, y_pred, average='macro')"
   ]
  }
 ],
 "metadata": {
  "kernelspec": {
   "display_name": "cancer-surgery-nlp",
   "language": "python",
   "name": "python3"
  },
  "language_info": {
   "codemirror_mode": {
    "name": "ipython",
    "version": 3
   },
   "file_extension": ".py",
   "mimetype": "text/x-python",
   "name": "python",
   "nbconvert_exporter": "python",
   "pygments_lexer": "ipython3",
   "version": "3.10.17"
  }
 },
 "nbformat": 4,
 "nbformat_minor": 5
}
