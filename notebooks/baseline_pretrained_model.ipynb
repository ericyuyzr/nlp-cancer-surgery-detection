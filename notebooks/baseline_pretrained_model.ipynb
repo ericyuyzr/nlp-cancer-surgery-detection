{
 "cells": [
  {
   "cell_type": "code",
   "execution_count": null,
   "id": "8f2c89d1",
   "metadata": {},
   "outputs": [],
   "source": [
    "from transformers import pipeline"
   ]
  }
 ],
 "metadata": {
  "language_info": {
   "name": "python"
  }
 },
 "nbformat": 4,
 "nbformat_minor": 5
}
