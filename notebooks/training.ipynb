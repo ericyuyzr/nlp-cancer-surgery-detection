{
 "cells": [
  {
   "cell_type": "code",
   "execution_count": 1,
   "id": "ae78dff9",
   "metadata": {},
   "outputs": [
    {
     "name": "stderr",
     "output_type": "stream",
     "text": [
      "c:\\Users\\zhenrui.yu\\AppData\\Local\\miniconda3\\envs\\cancer-surgery-nlp\\lib\\site-packages\\tqdm\\auto.py:21: TqdmWarning: IProgress not found. Please update jupyter and ipywidgets. See https://ipywidgets.readthedocs.io/en/stable/user_install.html\n",
      "  from .autonotebook import tqdm as notebook_tqdm\n"
     ]
    }
   ],
   "source": [
    "import pandas as pd\n",
    "import torch\n",
    "from transformers import AutoTokenizer, AutoModel\n",
    "from sklearn.linear_model import LogisticRegression\n",
    "from sklearn.metrics import classification_report\n",
    "from sklearn.model_selection import train_test_split\n",
    "import spacy"
   ]
  },
  {
   "cell_type": "code",
   "execution_count": 3,
   "id": "d303fac5",
   "metadata": {},
   "outputs": [
    {
     "name": "stderr",
     "output_type": "stream",
     "text": [
      "c:\\Users\\zhenrui.yu\\AppData\\Local\\miniconda3\\envs\\cancer-surgery-nlp\\lib\\site-packages\\spacy\\util.py:910: UserWarning: [W095] Model 'en_core_sci_sm' (0.5.4) was trained with spaCy v3.7.4 and may not be 100% compatible with the current version (3.8.6). If you see errors or degraded performance, download a newer compatible model or retrain your custom model with the current spaCy version. For more details and available updates, run: python -m spacy validate\n",
      "  warnings.warn(warn_msg)\n",
      "c:\\Users\\zhenrui.yu\\AppData\\Local\\miniconda3\\envs\\cancer-surgery-nlp\\lib\\site-packages\\spacy\\language.py:2232: FutureWarning: Possible set union at position 6328\n",
      "  serializers[name] = lambda proc=proc: proc.to_bytes(exclude=[\"vocab\"])  # type: ignore[misc]\n"
     ]
    }
   ],
   "source": [
    "nlp = spacy.load(\"en_core_sci_sm\")"
   ]
  },
  {
   "cell_type": "code",
   "execution_count": null,
   "id": "d8f129a2",
   "metadata": {},
   "outputs": [],
   "source": [
    "# Load your CSV and rename target column\n",
    "df = pd.read_csv(\"your_data.csv\")  # replace with your file path\n",
    "df = df.rename(columns={\"site\": \"target\"})\n",
    "df[\"ha_procedure_description\"] = df[\"ha_procedure_description\"].fillna(\"\")\n",
    "\n",
    "# Preprocessing function using scispaCy (tokenization + lemmatization)\n",
    "def clean_text(text):\n",
    "    doc = nlp(text)\n",
    "    tokens = [token.lemma_ for token in doc if not token.is_stop and not token.is_punct]\n",
    "    return \" \".join(tokens)\n",
    "\n",
    "df[\"clean_text\"] = df[\"ha_procedure_description\"].apply(clean_text)\n",
    "\n",
    "# Load Bio_ClinicalBERT from Hugging Face\n",
    "device = torch.device(\"cpu\")  # CPU only setup\n",
    "model_name = \"emilyalsentzer/Bio_ClinicalBERT\"\n",
    "tokenizer = AutoTokenizer.from_pretrained(model_name)\n",
    "bert_model = AutoModel.from_pretrained(model_name).to(device)\n",
    "bert_model.eval()\n",
    "\n",
    "# Function to get BERT [CLS] embedding for a sentence\n",
    "def get_bert_embedding(text):\n",
    "    inputs = tokenizer(text, return_tensors=\"pt\", truncation=True, padding=True, max_length=128)\n",
    "    with torch.no_grad():\n",
    "        outputs = bert_model(**inputs.to(device))\n",
    "    cls_embedding = outputs.last_hidden_state[0][0].cpu().numpy()\n",
    "    return cls_embedding\n",
    "\n",
    "# Generate embeddings for all cleaned texts\n",
    "df[\"embedding\"] = df[\"clean_text\"].apply(get_bert_embedding)\n",
    "\n",
    "# Prepare features and target arrays\n",
    "X = list(df[\"embedding\"])\n",
    "y = df[\"target\"]\n",
    "\n",
    "# Train-test split (stratified by target)\n",
    "X_train, X_test, y_train, y_test = train_test_split(X, y, stratify=y, test_size=0.2, random_state=42)\n",
    "\n",
    "# Train Logistic Regression classifier\n",
    "clf = LogisticRegression(max_iter=1000)\n",
    "clf.fit(X_train, y_train)\n",
    "\n",
    "# Evaluate on test set\n",
    "y_pred = clf.predict(X_test)\n",
    "print(classification_report(y_test, y_pred))"
   ]
  }
 ],
 "metadata": {
  "kernelspec": {
   "display_name": "cancer-surgery-nlp",
   "language": "python",
   "name": "python3"
  },
  "language_info": {
   "codemirror_mode": {
    "name": "ipython",
    "version": 3
   },
   "file_extension": ".py",
   "mimetype": "text/x-python",
   "name": "python",
   "nbconvert_exporter": "python",
   "pygments_lexer": "ipython3",
   "version": "3.10.17"
  }
 },
 "nbformat": 4,
 "nbformat_minor": 5
}
